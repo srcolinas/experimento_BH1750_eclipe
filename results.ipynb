{
 "cells": [
  {
   "cell_type": "markdown",
   "metadata": {},
   "source": [
    "## Esto está pendiente para cuando pase el eclipe!!"
   ]
  },
  {
   "cell_type": "code",
   "execution_count": 4,
   "metadata": {
    "collapsed": true
   },
   "outputs": [],
   "source": [
    "import numpy as np\n",
    "import pandas as pd\n",
    "import matplotlib.pyplot as plt\n",
    "%matplotlib inline"
   ]
  },
  {
   "cell_type": "code",
   "execution_count": 9,
   "metadata": {
    "collapsed": false
   },
   "outputs": [],
   "source": [
    "datos = np.genfromtxt('datos.csv', delimiter=',')"
   ]
  },
  {
   "cell_type": "code",
   "execution_count": 10,
   "metadata": {
    "collapsed": false
   },
   "outputs": [
    {
     "data": {
      "text/plain": [
       "array([[   nan,    15.],\n",
       "       [   nan,    15.],\n",
       "       [   nan,    15.],\n",
       "       [   nan,    15.],\n",
       "       [   nan,    26.],\n",
       "       [   nan,   343.],\n",
       "       [   nan,  2159.],\n",
       "       [   nan,  1549.],\n",
       "       [   nan,  1627.],\n",
       "       [   nan,  1544.],\n",
       "       [   nan,  1493.],\n",
       "       [   nan,  1587.],\n",
       "       [   nan,  1593.],\n",
       "       [   nan,   642.],\n",
       "       [   nan,   631.],\n",
       "       [   nan,   598.],\n",
       "       [   nan,   560.],\n",
       "       [   nan,   550.],\n",
       "       [   nan,   547.],\n",
       "       [   nan,   552.],\n",
       "       [   nan,   496.],\n",
       "       [   nan,   496.],\n",
       "       [   nan,  1230.],\n",
       "       [   nan,  1569.],\n",
       "       [   nan,  1632.],\n",
       "       [   nan,  1537.]])"
      ]
     },
     "execution_count": 10,
     "metadata": {},
     "output_type": "execute_result"
    }
   ],
   "source": [
    "datos"
   ]
  },
  {
   "cell_type": "code",
   "execution_count": 11,
   "metadata": {
    "collapsed": false
   },
   "outputs": [
    {
     "data": {
      "text/plain": [
       "[<matplotlib.lines.Line2D at 0x957fe80>]"
      ]
     },
     "execution_count": 11,
     "metadata": {},
     "output_type": "execute_result"
    },
    {
     "data": {
      "image/png": "[encoded data removed]",
      "text/plain": [
       "<matplotlib.figure.Figure at 0x9da6198>"
      ]
     },
     "metadata": {},
     "output_type": "display_data"
    }
   ],
   "source": [
    "plt.plot(datos[:,1])"
   ]
  },
  {
   "cell_type": "code",
   "execution_count": null,
   "metadata": {
    "collapsed": true
   },
   "outputs": [],
   "source": []
  }
 ],
 "metadata": {
  "anaconda-cloud": {},
  "kernelspec": {
   "display_name": "Python [conda root]",
   "language": "python",
   "name": "conda-root-py"
  },
  "language_info": {
   "codemirror_mode": {
    "name": "ipython",
    "version": 3
   },
   "file_extension": ".py",
   "mimetype": "text/x-python",
   "name": "python",
   "nbconvert_exporter": "python",
   "pygments_lexer": "ipython3",
   "version": "3.5.2"
  }
 },
 "nbformat": 4,
 "nbformat_minor": 1
}
